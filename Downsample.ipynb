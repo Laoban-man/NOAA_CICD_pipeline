{
 "cells": [
  {
   "cell_type": "code",
   "execution_count": 1,
   "id": "97da72df-2777-4b74-badd-0d846404829a",
   "metadata": {},
   "outputs": [
    {
     "ename": "ModuleNotFoundError",
     "evalue": "No module named 'utils.utils'; 'utils' is not a package",
     "output_type": "error",
     "traceback": [
      "\u001b[0;31m---------------------------------------------------------------------------\u001b[0m",
      "\u001b[0;31mModuleNotFoundError\u001b[0m                       Traceback (most recent call last)",
      "\u001b[0;32m<ipython-input-1-7504c5a63749>\u001b[0m in \u001b[0;36m<module>\u001b[0;34m\u001b[0m\n\u001b[1;32m      6\u001b[0m \u001b[0;32mfrom\u001b[0m \u001b[0mPIL\u001b[0m \u001b[0;32mimport\u001b[0m \u001b[0mImage\u001b[0m\u001b[0;34m\u001b[0m\u001b[0;34m\u001b[0m\u001b[0m\n\u001b[1;32m      7\u001b[0m \u001b[0;32mfrom\u001b[0m \u001b[0mPIL\u001b[0m\u001b[0;34m.\u001b[0m\u001b[0mImage\u001b[0m \u001b[0;32mimport\u001b[0m \u001b[0mImage\u001b[0m \u001b[0;32mas\u001b[0m \u001b[0mPilImage\u001b[0m\u001b[0;34m\u001b[0m\u001b[0;34m\u001b[0m\u001b[0m\n\u001b[0;32m----> 8\u001b[0;31m \u001b[0;32mfrom\u001b[0m \u001b[0mutils\u001b[0m\u001b[0;34m.\u001b[0m\u001b[0mutils\u001b[0m \u001b[0;32mimport\u001b[0m \u001b[0;34m*\u001b[0m\u001b[0;34m\u001b[0m\u001b[0;34m\u001b[0m\u001b[0m\n\u001b[0m\u001b[1;32m      9\u001b[0m \u001b[0;34m\u001b[0m\u001b[0m\n\u001b[1;32m     10\u001b[0m \u001b[0;32mfrom\u001b[0m \u001b[0mIPython\u001b[0m\u001b[0;34m.\u001b[0m\u001b[0mdisplay\u001b[0m \u001b[0;32mimport\u001b[0m \u001b[0mdisplay\u001b[0m\u001b[0;34m\u001b[0m\u001b[0;34m\u001b[0m\u001b[0m\n",
      "\u001b[0;31mModuleNotFoundError\u001b[0m: No module named 'utils.utils'; 'utils' is not a package"
     ]
    }
   ],
   "source": [
    "import os\n",
    "import time\n",
    "import matplotlib.pyplot as plt\n",
    "import pandas as pd\n",
    "import numpy as np\n",
    "from PIL import Image\n",
    "from PIL.Image import Image as PilImage\n",
    "from IPython.display import display\n",
    "from IPython.display import Image as _Imgdis\n",
    "import glob\n",
    "\n",
    "folder = \"../NOAA/Train\"\n",
    "files = glob.glob(\"..//\")\n",
    "for file in os.listdir(folder):\n",
    "    if \"csv\" not in file and \"json\" not in file:\n",
    "        im = Image.open(os.path.join(folder, file))\n",
    "        #image size\n",
    "        size=(int(im.size[0]/4),int(im.size[1]/4))\n",
    "        #resize image\n",
    "        out = im.resize(size,resample=2)\n",
    "        #save resized image\n",
    "        out.save('Downsampled/Train'+file)\n",
    "\n",
    "folder = \"../NOAA/Traindotted\"\n",
    "files=glob.glob(\"..//\")\n",
    "for file in os.listdir(folder):\n",
    "    if \"csv\" not in file and \"json\" not in file:\n",
    "        im = Image.open(os.path.join(folder, file))\n",
    "        #image size\n",
    "        size=(int(im.size[0]/4),int(im.size[1]/4))\n",
    "        #resize image\n",
    "        out = im.resize(size,resample=2)\n",
    "        #save resized image\n",
    "        out.save('../NOAA/downsampled_dotted/'+file)"
   ]
  },
  {
   "cell_type": "code",
   "execution_count": null,
   "id": "a750ad08-e7c2-4f5a-bfa8-2c65bc05d11f",
   "metadata": {},
   "outputs": [],
   "source": [
    "folder = \"../NOAA/Train\"\n",
    "\n",
    "files = glob.glob(\"..//\")\n",
    "for file in os.listdir(folder):\n",
    "    if \"csv\" not in file and \"json\" not in file:\n",
    "        im = Image.open(os.path.join(folder, file))\n",
    "        #image size\n",
    "        size=(int(im.size[0]/4),int(im.size[1]/4))\n",
    "        #resize image\n",
    "        out = im.resize(size,resample=2)\n",
    "        #save resized image\n",
    "        out.save('downsampled_input/'+file)"
   ]
  },
  {
   "cell_type": "code",
   "execution_count": null,
   "id": "ea28a2af-5df7-48dc-9b98-bbd4ab1b0f8d",
   "metadata": {},
   "outputs": [],
   "source": [
    "folder = \"../NOAA/Traindotted\"\n",
    "\n",
    "files=glob.glob(\"..//\")\n",
    "for file in os.listdir(folder):\n",
    "    if \"csv\" not in file and \"json\" not in file:\n",
    "        im = Image.open(os.path.join(folder, file))\n",
    "        #image size\n",
    "        size=(int(im.size[0]/4),int(im.size[1]/4))\n",
    "        #resize image\n",
    "        out = im.resize(size,resample=2)\n",
    "        #save resized image\n",
    "        out.save('../NOAA/downsampled_dotted/'+file)"
   ]
  }
 ],
 "metadata": {
  "kernelspec": {
   "display_name": "Python 3",
   "language": "python",
   "name": "python3"
  },
  "language_info": {
   "codemirror_mode": {
    "name": "ipython",
    "version": 3
   },
   "file_extension": ".py",
   "mimetype": "text/x-python",
   "name": "python",
   "nbconvert_exporter": "python",
   "pygments_lexer": "ipython3",
   "version": "3.7.6"
  }
 },
 "nbformat": 4,
 "nbformat_minor": 5
}
